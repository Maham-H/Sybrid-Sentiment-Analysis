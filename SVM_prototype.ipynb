{
 "cells": [
  {
   "cell_type": "markdown",
   "metadata": {},
   "source": [
    "# Packages Necessary for the notebook"
   ]
  },
  {
   "cell_type": "code",
   "execution_count": 10,
   "metadata": {},
   "outputs": [
    {
     "name": "stdout",
     "output_type": "stream",
     "text": [
      "The autoreload extension is already loaded. To reload it, use:\n",
      "  %reload_ext autoreload\n"
     ]
    }
   ],
   "source": [
    "import numpy as np\n",
    "import matplotlib.pyplot as plt\n",
    "from nltk.tokenize import word_tokenize\n",
    "from sklearn.feature_extraction.text import TfidfVectorizer\n",
    "from sklearn.linear_model import LogisticRegression\n",
    "from sklearn.model_selection import train_test_split\n",
    "\n",
    "from sklearn import linear_model\n",
    "from sklearn.model_selection import cross_validate\n",
    "\n",
    "from sklearn.metrics import precision_recall_fscore_support\n",
    "import HelperFunctions2 as hf\n",
    "\n",
    "\n",
    "%load_ext autoreload\n",
    "%autoreload 2\n",
    "\n",
    "\n",
    "\n",
    "all_stopwords = hf.return_stopwords(lists=[],append=True)"
   ]
  },
  {
   "cell_type": "code",
   "execution_count": 25,
   "metadata": {},
   "outputs": [
    {
     "name": "stdout",
     "output_type": "stream",
     "text": [
      "Number of Comments: 11516\n",
      "Number of labels: 11516\n",
      "Number of brand names: 11516\n"
     ]
    },
    {
     "data": {
      "text/plain": [
       "array(['Negative', 'Neutral', 'Positive', 'Very Negative',\n",
       "       'Very Positive'], dtype='<U13')"
      ]
     },
     "execution_count": 25,
     "metadata": {},
     "output_type": "execute_result"
    }
   ],
   "source": [
    "#15235 comments #10k + 3k query + 2k neutral\n",
    "filename = 'finalfbdata_clean_5c.csv'#'18kfinalfbdata_notclean.csv'\n",
    "Tweets,Labels,brand=hf.load_data(filename,1,True)\n",
    "Tweets_cleaned = hf.clean_data(Tweets,brand,all_stopwords)\n",
    "\n",
    "print('Number of Comments:',np.size(Tweets))\n",
    "print('Number of labels:',np.size(Labels))\n",
    "print('Number of brand names:',np.size(brand))\n",
    "\n",
    "np.unique(Labels)\n"
   ]
  },
  {
   "cell_type": "code",
   "execution_count": 12,
   "metadata": {},
   "outputs": [],
   "source": [
    "X = Tweets_cleaned#Tweets\n",
    "y = Labels\n",
    "b = brand\n",
    "X_train, X_test, y_train, y_test, b_train,b_test = train_test_split(X, y,b, test_size=0.1, random_state=42)\n",
    "X_val, X_test, y_val, y_test, b_val, b_test = train_test_split(X_test, y_test,b_test, test_size=0.1, random_state=42)"
   ]
  },
  {
   "cell_type": "markdown",
   "metadata": {},
   "source": [
    "# Data Tokenization"
   ]
  },
  {
   "cell_type": "code",
   "execution_count": 13,
   "metadata": {},
   "outputs": [],
   "source": [
    "tfidf = TfidfVectorizer(tokenizer=hf.tokenizer, norm='l2', analyzer='word',# hf.tokenizer\n",
    "                        ngram_range=(1,4))#, stop_words=all_stopwords)\n",
    "features_train = tfidf.fit_transform(X_train)\n",
    "features_val = tfidf.transform(X_val)\n",
    "features_test = tfidf.transform(X_test)"
   ]
  },
  {
   "cell_type": "markdown",
   "metadata": {},
   "source": [
    "# Learning the model"
   ]
  },
  {
   "cell_type": "code",
   "execution_count": 19,
   "metadata": {},
   "outputs": [
    {
     "name": "stdout",
     "output_type": "stream",
     "text": [
      "0.9938247780779622\n",
      "0.7844827586206896\n"
     ]
    }
   ],
   "source": [
    "from sklearn.svm import LinearSVC\n",
    "svm = LinearSVC(C=0.58,penalty='l2', dual=True, max_iter=3000,class_weight='balanced')\n",
    "out=svm.fit(features_train,y_train)\n",
    "print(out.score(features_train,y_train))\n",
    "print(out.score(features_test,y_test))"
   ]
  },
  {
   "cell_type": "code",
   "execution_count": 20,
   "metadata": {},
   "outputs": [],
   "source": [
    "#np.size(np.unique(brand))"
   ]
  },
  {
   "cell_type": "code",
   "execution_count": 41,
   "metadata": {},
   "outputs": [],
   "source": [
    "def brand_sentiment2(brand, Tweets, Labels, model,n,plot=True):\n",
    "    features = tfidf.transform(Tweets)\n",
    "    preds = svm.predict(features)\n",
    "    tags = np.unique(brand)\n",
    "    brand_data_acc={}\n",
    "    brand_data_sentiment={}\n",
    "    brand_instances={}\n",
    "    for i in range(np.size(tags)):\n",
    "        brand_data_acc[tags[i]]=0\n",
    "        brand_data_sentiment[tags[i]]=0\n",
    "        brand_instances[tags[i]]=0\n",
    "    \n",
    "    for j in range(np.size(preds)):\n",
    "        brand_instances[brand[j]]+=1\n",
    "        if Labels[j]==preds[j]:\n",
    "            brand_data_acc[brand[j]]+=1\n",
    "        if preds[j] == 'Very Positive':\n",
    "            brand_data_sentiment[brand[j]]+=100                        \n",
    "        elif preds[j] == 'Positive':\n",
    "            brand_data_sentiment[brand[j]]+=50\n",
    "        elif preds[j] == 'Neutral':\n",
    "            brand_data_sentiment[brand[j]]+=0\n",
    "        elif preds[j] == 'Negative':\n",
    "            brand_data_sentiment[brand[j]]-=50\n",
    "        elif preds[j] == 'Very Negative':\n",
    "            brand_data_sentiment[brand[j]]-=100\n",
    "            \n",
    "    plt.figure(1,figsize=(12,7))\n",
    "    plt.xlabel('Brand')\n",
    "    plt.ylabel('Number of instances for the brand')\n",
    "    plt.title('Brand Instances')\n",
    "    for i in range(np.size(tags)):\n",
    "        #print(brand_instances)\n",
    "        brand_data_acc[tags[i]]=100*brand_data_acc[tags[i]]/brand_instances[tags[i]]\n",
    "        brand_data_sentiment[tags[i]]=brand_data_sentiment[tags[i]]/brand_instances[tags[i]]\n",
    "        #if plot:\n",
    "        if i<n:\n",
    "            plt.plot(tags[i],brand_instances[tags[i]],'bs')\n",
    "            \n",
    "    plt.figure(2,figsize=(12,7))\n",
    "    plt.xlabel('Brand')\n",
    "    plt.ylabel('Sentiment for the brand')\n",
    "    plt.title('Brand Sentiment (+100 VP, +50P, 0N, -50Neg, -100VNeg)')\n",
    "    for i in range(np.size(tags)):\n",
    "        if i<n:\n",
    "            plt.plot(tags[i],brand_data_sentiment[tags[i]],'gs')\n",
    "    plt.figure(3,figsize=(12,7))\n",
    "    plt.xlabel('Brand')\n",
    "    plt.ylabel('Accuracy for the brand')\n",
    "    plt.title('Brand Accuracy')\n",
    "    for i in range(np.size(tags)):\n",
    "        if i<n:\n",
    "            plt.plot(tags[i],brand_data_acc[tags[i]],'rs')    \n",
    "    #plt.plot()\n",
    "    #return brand_data_acc,brand_data_sentiment\n",
    "    "
   ]
  },
  {
   "cell_type": "code",
   "execution_count": 42,
   "metadata": {},
   "outputs": [
    {
     "data": {
      "image/png": "[encoded data removed]",
      "text/plain": [
       "<Figure size 864x504 with 1 Axes>"
      ]
     },
     "metadata": {
      "needs_background": "light"
     },
     "output_type": "display_data"
    },
    {
     "data": {
      "image/png": "[encoded data removed]",
      "text/plain": [
       "<Figure size 864x504 with 1 Axes>"
      ]
     },
     "metadata": {
      "needs_background": "light"
     },
     "output_type": "display_data"
    },
    {
     "data": {
      "image/png": "[encoded data removed]",
      "text/plain": [
       "<Figure size 864x504 with 1 Axes>"
      ]
     },
     "metadata": {
      "needs_background": "light"
     },
     "output_type": "display_data"
    }
   ],
   "source": [
    "brand_sentiment2(b_test, X_test, y_test, svm,10,plot=True)"
   ]
  },
  {
   "cell_type": "code",
   "execution_count": 32,
   "metadata": {},
   "outputs": [
    {
     "name": "stdout",
     "output_type": "stream",
     "text": [
      "116\n"
     ]
    }
   ],
   "source": [
    "print(np.size(b_test))"
   ]
  },
  {
   "cell_type": "code",
   "execution_count": null,
   "metadata": {},
   "outputs": [],
   "source": []
  }
 ],
 "metadata": {
  "kernelspec": {
   "display_name": "Python 3",
   "language": "python",
   "name": "python3"
  },
  "language_info": {
   "codemirror_mode": {
    "name": "ipython",
    "version": 3
   },
   "file_extension": ".py",
   "mimetype": "text/x-python",
   "name": "python",
   "nbconvert_exporter": "python",
   "pygments_lexer": "ipython3",
   "version": "3.7.1"
  }
 },
 "nbformat": 4,
 "nbformat_minor": 4
}
