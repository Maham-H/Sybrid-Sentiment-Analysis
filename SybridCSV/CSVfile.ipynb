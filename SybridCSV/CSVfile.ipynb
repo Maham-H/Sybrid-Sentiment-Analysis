{
 "cells": [
  {
   "cell_type": "code",
   "execution_count": 1,
   "metadata": {},
   "outputs": [],
   "source": [
    "import HelperFunctions2 as hf\n",
    "from joblib import dump, load\n",
    "import csv\n",
    "import numpy as np"
   ]
  },
  {
   "cell_type": "code",
   "execution_count": 2,
   "metadata": {},
   "outputs": [],
   "source": [
    "#inputs any file names\n",
    "files = ['InternetCompaniesData/FiberlinkISP.csv', 'InternetCompaniesData/Nayatel.csv',\n",
    "         'InternetCompaniesData/stormfiber.csv','InternetCompaniesData/transworldhome.csv']\n",
    "\n",
    "saveinfilename='data.csv'\n",
    "\n",
    "# If file has Header shift = True\n",
    "Tweets,brand,Tweets_cleaned=hf.load_data_nolabels(files,shift=True)\n",
    "\n"
   ]
  },
  {
   "cell_type": "markdown",
   "metadata": {},
   "source": [
    "## Category can be one of the following:\n",
    "\n",
    "2_classes (query/sentiment)\n",
    "\n",
    "3_classes (pos/neutral/neg)\n",
    "\n",
    "5_classes (verypos/pos/neutral/neg/veryneg)\n",
    "\n",
    "\n",
    "\n",
    "\n"
   ]
  },
  {
   "cell_type": "code",
   "execution_count": 3,
   "metadata": {},
   "outputs": [],
   "source": [
    "category = '5_classes'\n",
    "\n",
    "svm = load(\"models/%s.joblib\"%category)\n",
    "tfidf1 = load(\"vectorizer/%s.joblib\"%category)\n",
    "features = tfidf1.transform(Tweets_cleaned)\n",
    "\n",
    "brand_data_sentiment5,brand_overall5=hf.brand_sentiment5(brand, features, svm,100,plot=False)\n",
    "bmat5 = hf.get_percentages(brand_overall5, cat=5, printit=False)"
   ]
  },
  {
   "cell_type": "code",
   "execution_count": 4,
   "metadata": {},
   "outputs": [],
   "source": [
    "category = '3_classes'\n",
    "\n",
    "svm = load(\"models/%s.joblib\"%category)\n",
    "tfidf1 = load(\"vectorizer/%s.joblib\"%category)\n",
    "features = tfidf1.transform(Tweets_cleaned)\n",
    "\n",
    "#brand_data_sentiment3,brand_overall3=hf.brand_sentiment3(brand, features, svm,100,plot=False)"
   ]
  },
  {
   "cell_type": "code",
   "execution_count": 5,
   "metadata": {},
   "outputs": [],
   "source": [
    "category = '2_classes'\n",
    "\n",
    "svm = load(\"models/%s.joblib\"%category)\n",
    "tfidf1 = load(\"vectorizer/%s.joblib\"%category)\n",
    "features = tfidf1.transform(Tweets_cleaned)\n",
    "\n",
    "brand_overall2=hf.brand_sentiment2(brand, features, svm)\n",
    "bmat = hf.get_percentages(brand_overall2, cat=2, printit=False)\n",
    "\n",
    "\n",
    "    "
   ]
  },
  {
   "cell_type": "code",
   "execution_count": 7,
   "metadata": {},
   "outputs": [],
   "source": [
    "\n",
    "brand_unique=np.unique(brand)\n",
    "hf.store_data5(saveinfilename,bmat5,brand_unique,brand_data_sentiment5,bmat)"
   ]
  },
  {
   "cell_type": "code",
   "execution_count": null,
   "metadata": {},
   "outputs": [],
   "source": []
  }
 ],
 "metadata": {
  "kernelspec": {
   "display_name": "Python 3",
   "language": "python",
   "name": "python3"
  },
  "language_info": {
   "codemirror_mode": {
    "name": "ipython",
    "version": 3
   },
   "file_extension": ".py",
   "mimetype": "text/x-python",
   "name": "python",
   "nbconvert_exporter": "python",
   "pygments_lexer": "ipython3",
   "version": "3.7.1"
  }
 },
 "nbformat": 4,
 "nbformat_minor": 4
}
