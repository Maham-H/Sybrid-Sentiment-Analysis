{
 "cells": [
  {
   "cell_type": "markdown",
   "metadata": {},
   "source": [
    "# Packages"
   ]
  },
  {
   "cell_type": "code",
   "execution_count": 1,
   "metadata": {},
   "outputs": [
    {
     "name": "stdout",
     "output_type": "stream",
     "text": [
      "time: 476 µs (started: 2021-01-06 01:50:08 -05:00)\n"
     ]
    }
   ],
   "source": [
    "import numpy as np\n",
    "import matplotlib.pyplot as plt\n",
    "\n",
    "from nltk.tokenize import word_tokenize\n",
    "from sklearn.feature_extraction.text import TfidfVectorizer\n",
    "from sklearn.linear_model import LogisticRegression\n",
    "from sklearn.model_selection import train_test_split\n",
    "\n",
    "from sklearn import linear_model\n",
    "from sklearn.model_selection import cross_validate\n",
    "\n",
    "from sklearn.metrics import precision_recall_fscore_support\n",
    "import HelperFunctions as hf\n",
    "\n",
    "\n",
    "\n",
    "\n",
    "%load_ext autoreload\n",
    "#%reload_ext autoreload\n",
    "%autoreload 2\n",
    "%load_ext autotime"
   ]
  },
  {
   "cell_type": "markdown",
   "metadata": {},
   "source": [
    "# Accessing helper functions and importing stopwords"
   ]
  },
  {
   "cell_type": "code",
   "execution_count": 7,
   "metadata": {},
   "outputs": [
    {
     "name": "stdout",
     "output_type": "stream",
     "text": [
      "time: 3.98 ms (started: 2021-01-06 01:51:14 -05:00)\n"
     ]
    }
   ],
   "source": [
    "\n",
    "from nltk.stem.snowball import SnowballStemmer\n",
    "porter = SnowballStemmer(\"english\", ignore_stopwords=True)\n",
    "\n",
    "\n",
    "all_stopwords = hf.return_stopwords(lists=[],append=True)\n",
    "\n",
    "def tok_p(text):\n",
    "    return hf.tokenizer_porter(text,porter)"
   ]
  },
  {
   "cell_type": "markdown",
   "metadata": {},
   "source": [
    "# Load Data"
   ]
  },
  {
   "cell_type": "code",
   "execution_count": 2,
   "metadata": {},
   "outputs": [
    {
     "name": "stdout",
     "output_type": "stream",
     "text": [
      "Number of Comments: 18235\n",
      "Number of labels: 18235\n",
      "Number of brand names: 18235\n",
      "time: 142 ms (started: 2021-01-06 01:50:08 -05:00)\n"
     ]
    }
   ],
   "source": [
    "#15235 comments #10k + 3k query + 2k neutral\n",
    "filename = '18kfinalfbdata_notclean.csv'\n",
    "Tweets,Labels,brand=hf.load_data(filename,1,True)\n",
    "\n",
    "print('Number of Comments:',np.size(Tweets))\n",
    "print('Number of labels:',np.size(Labels))\n",
    "print('Number of brand names:',np.size(brand))\n",
    "\n"
   ]
  },
  {
   "cell_type": "markdown",
   "metadata": {},
   "source": [
    "# Store Data"
   ]
  },
  {
   "cell_type": "code",
   "execution_count": 4,
   "metadata": {},
   "outputs": [
    {
     "name": "stdout",
     "output_type": "stream",
     "text": [
      "time: 458 µs (started: 2021-01-05 02:38:14 -05:00)\n"
     ]
    }
   ],
   "source": [
    "#hf.store_data('18kfinalfbdata_notclean.csv', Tweets, Labels,brand)"
   ]
  },
  {
   "cell_type": "markdown",
   "metadata": {},
   "source": [
    "# Sanity check (unique labels and sizes of extracted data)"
   ]
  },
  {
   "cell_type": "code",
   "execution_count": 5,
   "metadata": {},
   "outputs": [
    {
     "name": "stdout",
     "output_type": "stream",
     "text": [
      "Number of unique Labels:\t ['Negative' 'Neutral' 'Positive' 'Query' 'Very Negative' 'Very Positive']\n",
      "time: 5.85 ms (started: 2021-01-05 02:38:15 -05:00)\n"
     ]
    }
   ],
   "source": [
    "ul =np.unique(Labels,return_counts=False)\n",
    "print('Number of unique Labels:\\t', ul)\n"
   ]
  },
  {
   "cell_type": "markdown",
   "metadata": {},
   "source": [
    "# Data Cleaning"
   ]
  },
  {
   "cell_type": "code",
   "execution_count": 6,
   "metadata": {},
   "outputs": [
    {
     "name": "stdout",
     "output_type": "stream",
     "text": [
      "time: 2.2 s (started: 2021-01-05 02:38:16 -05:00)\n"
     ]
    }
   ],
   "source": [
    "Tweets_cleaned = hf.clean_data(Tweets,all_stopwords)"
   ]
  },
  {
   "cell_type": "markdown",
   "metadata": {},
   "source": [
    "# Extracting 10 Most common words per category"
   ]
  },
  {
   "cell_type": "code",
   "execution_count": 7,
   "metadata": {},
   "outputs": [
    {
     "name": "stdout",
     "output_type": "stream",
     "text": [
      "time: 671 µs (started: 2021-01-05 02:38:19 -05:00)\n"
     ]
    }
   ],
   "source": [
    "#tokens = hf.category_tokenization(Tweets, Labels,all_stopwords,porter,stop_words=True,tokenize_porter=True)\n",
    "#c,c_vp,c_p,c_ne,c_n,c_vn,c_q=hf.most_common(tokens)"
   ]
  },
  {
   "cell_type": "markdown",
   "metadata": {},
   "source": [
    "# Filtering Data"
   ]
  },
  {
   "cell_type": "code",
   "execution_count": 3,
   "metadata": {},
   "outputs": [
    {
     "name": "stdout",
     "output_type": "stream",
     "text": [
      "time: 5.79 ms (started: 2021-01-06 01:50:47 -05:00)\n"
     ]
    }
   ],
   "source": [
    "for i in range(np.size(Labels)):\n",
    "    if Labels[i]== 'Query':\n",
    "        Labels[i]='Neutral'#append(Labelsf[i])\n"
   ]
  },
  {
   "cell_type": "markdown",
   "metadata": {},
   "source": [
    "# Getting train and test data"
   ]
  },
  {
   "cell_type": "code",
   "execution_count": 4,
   "metadata": {},
   "outputs": [
    {
     "name": "stdout",
     "output_type": "stream",
     "text": [
      "time: 12.9 ms (started: 2021-01-06 01:51:03 -05:00)\n"
     ]
    }
   ],
   "source": [
    "X = Tweets#_cleaned#Tweets\n",
    "y = Labels\n",
    "X_train, X_test, y_train, y_test = train_test_split(X, y, test_size=0.1, random_state=42)\n",
    "X_val, X_test, y_val, y_test = train_test_split(X_test, y_test, test_size=0.5, random_state=42)"
   ]
  },
  {
   "cell_type": "code",
   "execution_count": 5,
   "metadata": {},
   "outputs": [
    {
     "name": "stdout",
     "output_type": "stream",
     "text": [
      "Train Data size (16411,)\n",
      "Train Labels size (16411,)\n",
      "Val Data size (912,)\n",
      "Val Labels size (912,)\n",
      "Test Data size (912,)\n",
      "Test Labels size (912,)\n",
      "time: 27.6 ms (started: 2021-01-06 01:51:04 -05:00)\n"
     ]
    }
   ],
   "source": [
    "print('Train Data size',np.shape(X_train))\n",
    "print('Train Labels size', np.shape(y_train))\n",
    "print('Val Data size',np.shape(X_val))\n",
    "print('Val Labels size',np.shape(y_val))\n",
    "print('Test Data size',np.shape(X_test))\n",
    "print('Test Labels size',np.shape(y_test))"
   ]
  },
  {
   "cell_type": "markdown",
   "metadata": {},
   "source": [
    "# Feature extraction"
   ]
  },
  {
   "cell_type": "code",
   "execution_count": 8,
   "metadata": {},
   "outputs": [
    {
     "name": "stdout",
     "output_type": "stream",
     "text": [
      "time: 2.61 s (started: 2021-01-06 01:51:17 -05:00)\n"
     ]
    }
   ],
   "source": [
    "tfidf = TfidfVectorizer(tokenizer=tok_p, norm='l2',# analyzer='word', hf.tokenizer\n",
    "                        ngram_range=(1,3))#, stop_words=all_stopwords)\n",
    "features_train = tfidf.fit_transform(X_train)\n",
    "features_val = tfidf.transform(X_val)\n",
    "features_test = tfidf.transform(X_test)\n"
   ]
  },
  {
   "cell_type": "code",
   "execution_count": 9,
   "metadata": {},
   "outputs": [
    {
     "name": "stdout",
     "output_type": "stream",
     "text": [
      "time: 1.42 ms (started: 2021-01-06 01:51:20 -05:00)\n"
     ]
    }
   ],
   "source": [
    "val=np.shape(y_val)[0]\n",
    "test=np.shape(y_test)[0]"
   ]
  },
  {
   "cell_type": "markdown",
   "metadata": {},
   "source": [
    "# 1 Linear SVM (Best)"
   ]
  },
  {
   "cell_type": "code",
   "execution_count": 10,
   "metadata": {},
   "outputs": [
    {
     "name": "stdout",
     "output_type": "stream",
     "text": [
      "0.9932362439826945\n",
      "0.743421052631579\n",
      "time: 629 ms (started: 2021-01-06 01:51:22 -05:00)\n"
     ]
    }
   ],
   "source": [
    "from sklearn.svm import LinearSVC\n",
    "svm = LinearSVC(C=0.58,penalty='l2', dual=True, max_iter=3000,class_weight='balanced')\n",
    "out=svm.fit(features_train,y_train)\n",
    "print(out.score(features_train,y_train))\n",
    "print(out.score(features_test,y_test))"
   ]
  },
  {
   "cell_type": "code",
   "execution_count": 16,
   "metadata": {},
   "outputs": [
    {
     "data": {
      "image/png": "[encoded data removed]",
      "text/plain": [
       "<Figure size 576x432 with 2 Axes>"
      ]
     },
     "metadata": {
      "needs_background": "light"
     },
     "output_type": "display_data"
    },
    {
     "name": "stdout",
     "output_type": "stream",
     "text": [
      "time: 327 ms (started: 2021-01-06 01:53:14 -05:00)\n"
     ]
    }
   ],
   "source": [
    "preds = svm.predict(features_test)\n",
    "labels = ['Very Positive','Positive', 'Neutral','Query', 'Negative', 'Very Negative']\n",
    "conf_mat=hf.plot_results(preds,labels,y_test)"
   ]
  },
  {
   "cell_type": "code",
   "execution_count": 17,
   "metadata": {},
   "outputs": [
    {
     "data": {
      "image/png": "[encoded data removed]",
      "text/plain": [
       "<Figure size 1440x576 with 2 Axes>"
      ]
     },
     "metadata": {
      "needs_background": "light"
     },
     "output_type": "display_data"
    },
    {
     "name": "stdout",
     "output_type": "stream",
     "text": [
      "Accuracy :  81.46929824561403\n",
      "Observed Agreement : 743\n",
      "Random Chance Agreement : 339.797149122807\n",
      "Kappa : 0.7046501957462791\n",
      "time: 323 ms (started: 2021-01-06 01:53:17 -05:00)\n"
     ]
    }
   ],
   "source": [
    "new_conf_mat, acc=hf.category_reduction(conf_mat)"
   ]
  },
  {
   "cell_type": "markdown",
   "metadata": {},
   "source": [
    "# Preprocessing for torch model"
   ]
  },
  {
   "cell_type": "code",
   "execution_count": 16,
   "metadata": {},
   "outputs": [
    {
     "name": "stdout",
     "output_type": "stream",
     "text": [
      "time: 5.57 ms (started: 2021-01-05 02:38:38 -05:00)\n"
     ]
    }
   ],
   "source": [
    "from sklearn import preprocessing\n",
    "\n",
    "le = preprocessing.LabelEncoder()\n",
    "ytest = le.fit_transform(y_test)\n",
    "ytrain = le.fit_transform(y_train)\n",
    "yval = le.fit_transform(y_val)\n",
    "\n",
    "#le = preprocessing.OneHotEncoder(handle_unknown='ignore')\n",
    "#ytest = le.fit_transform(ytest.reshape(-1, 1))\n",
    "#ytrain = le.fit_transform(ytrain.reshape(-1, 1))\n",
    "#yval = le.fit_transform(yval.reshape(-1, 1))"
   ]
  },
  {
   "cell_type": "code",
   "execution_count": 18,
   "metadata": {},
   "outputs": [
    {
     "name": "stdout",
     "output_type": "stream",
     "text": [
      "time: 415 µs (started: 2021-01-05 02:38:50 -05:00)\n"
     ]
    }
   ],
   "source": [
    "#for i in range(10):\n",
    "#    print(y_test[i],ytest[i])\n",
    "\n",
    "# Negative = index(0)\n",
    "# Neutral = index(1)\n",
    "# Positive = index(2)\n",
    "# Query = index(3)\n",
    "# Very Negtaive = index(4)\n",
    "# Very Positive = index(5)"
   ]
  },
  {
   "cell_type": "code",
   "execution_count": 19,
   "metadata": {},
   "outputs": [
    {
     "name": "stdout",
     "output_type": "stream",
     "text": [
      "Shape of training Features:  (16411, 201509)\n",
      "Shape of validation Features:  (912, 201509)\n",
      "Shape of testing Features:  (912, 201509)\n",
      "Shape of training targets:  (16411,)\n",
      "Shape of validation targets:  (912,)\n",
      "Shape of testing targets:  (912,)\n",
      "time: 1.25 ms (started: 2021-01-05 02:38:52 -05:00)\n"
     ]
    }
   ],
   "source": [
    "print('Shape of training Features: ',np.shape(features_train))\n",
    "print('Shape of validation Features: ',np.shape(features_val))\n",
    "print('Shape of testing Features: ',np.shape(features_test))\n",
    "\n",
    "print('Shape of training targets: ',np.shape(ytrain))\n",
    "print('Shape of validation targets: ',np.shape(yval))\n",
    "print('Shape of testing targets: ',np.shape(ytest))\n",
    "\n"
   ]
  },
  {
   "cell_type": "markdown",
   "metadata": {},
   "source": [
    "# Torch Model"
   ]
  },
  {
   "cell_type": "code",
   "execution_count": 20,
   "metadata": {},
   "outputs": [
    {
     "name": "stdout",
     "output_type": "stream",
     "text": [
      "time: 310 ms (started: 2021-01-05 02:38:55 -05:00)\n"
     ]
    }
   ],
   "source": [
    "import torch\n",
    "import torch.nn as nn"
   ]
  },
  {
   "cell_type": "code",
   "execution_count": 34,
   "metadata": {},
   "outputs": [
    {
     "name": "stdout",
     "output_type": "stream",
     "text": [
      "time: 2.13 ms (started: 2021-01-05 02:42:30 -05:00)\n"
     ]
    }
   ],
   "source": [
    "import torch.optim as optim\n",
    "\n",
    "class NN_SA(nn.Module):\n",
    "    def __init__(self, config):\n",
    "        super(NN_SA, self).__init__()\n",
    "        self.inputSize = config[\"input_dim\"]\n",
    "        self.outputSize = config[\"output_dim\"]\n",
    "        self.hiddenSize1 = config[\"hidden1\"] \n",
    "        self.hiddenSize2 = config[\"hidden2\"] \n",
    "        self.alpha = config[\"learning_rate\"]\n",
    "        self.output_dim = config[\"classes\"]\n",
    "        self.N = config[\"N\"]\n",
    "        \n",
    "        self.h1 = nn.Linear(self.inputSize, self.hiddenSize1)\n",
    "        self.d1 = nn.Dropout(p=0.2)\n",
    "        self.h2 = nn.Linear(self.hiddenSize1,self.hiddenSize2)\n",
    "        self.d2 = nn.Dropout(p=0.5)\n",
    "        self.h3 = nn.Linear(self.hiddenSize2,self.output_dim)\n",
    "    def forward(self,x):\n",
    "        x = torch.sigmoid(self.h1(x))\n",
    "        #x = self.d1(x)\n",
    "        #x = torch.sigmoid(self.h2(x))\n",
    "        #x = self.d2(x)\n",
    "        x = torch.relu(self.h3(x))\n",
    "        #print(x)\n",
    "        return x"
   ]
  },
  {
   "cell_type": "code",
   "execution_count": 22,
   "metadata": {},
   "outputs": [
    {
     "name": "stdout",
     "output_type": "stream",
     "text": [
      "time: 26.8 s (started: 2021-01-05 02:39:00 -05:00)\n"
     ]
    }
   ],
   "source": [
    "Xtrain = torch.tensor(features_train.toarray(), dtype=torch.float) # 15k x 4 tensor\n",
    "y_train = torch.tensor(ytrain, dtype=torch.long) # 15k, tensor\n",
    "Xval = torch.tensor(features_val.toarray(), dtype=torch.float) # 15k x 4 tensor\n",
    "y_val = torch.tensor(yval, dtype=torch.long) # 15k, tensor\n",
    "Xtest = torch.tensor(features_test.toarray(), dtype=torch.float) # 15k x 4 tensor\n",
    "y_test = torch.tensor(ytest, dtype=torch.long) # 15k, tensor"
   ]
  },
  {
   "cell_type": "code",
   "execution_count": 37,
   "metadata": {},
   "outputs": [
    {
     "data": {
      "text/plain": [
       "tensor([[0., 0., 0.,  ..., 0., 0., 0.],\n",
       "        [0., 0., 0.,  ..., 0., 0., 0.],\n",
       "        [0., 0., 0.,  ..., 0., 0., 0.],\n",
       "        ...,\n",
       "        [0., 0., 0.,  ..., 0., 0., 0.],\n",
       "        [0., 0., 0.,  ..., 0., 0., 0.],\n",
       "        [0., 0., 0.,  ..., 0., 0., 0.]])"
      ]
     },
     "execution_count": 37,
     "metadata": {},
     "output_type": "execute_result"
    },
    {
     "name": "stdout",
     "output_type": "stream",
     "text": [
      "time: 15.5 s (started: 2021-01-05 03:56:12 -05:00)\n"
     ]
    }
   ],
   "source": [
    "torch.save(Xtrain, 'tensordatatrain.pt')\n",
    "torch.save(Xval, 'tensordataval.pt')\n",
    "torch.save(Xtest, 'tensordatatest.pt')\n",
    "\n",
    "torch.load('tensordatatest.pt')"
   ]
  },
  {
   "cell_type": "code",
   "execution_count": 36,
   "metadata": {},
   "outputs": [
    {
     "data": {
      "text/plain": [
       "torch.Size([912, 201509])"
      ]
     },
     "execution_count": 36,
     "metadata": {},
     "output_type": "execute_result"
    },
    {
     "name": "stdout",
     "output_type": "stream",
     "text": [
      "time: 632 ms (started: 2021-01-05 03:55:49 -05:00)\n"
     ]
    }
   ],
   "source": [
    "torch.load('tensordata.pt').size()"
   ]
  },
  {
   "cell_type": "code",
   "execution_count": 31,
   "metadata": {},
   "outputs": [
    {
     "name": "stdout",
     "output_type": "stream",
     "text": [
      "time: 863 µs (started: 2021-01-05 02:40:30 -05:00)\n"
     ]
    }
   ],
   "source": [
    "config= {\"input_dim\":np.shape(features_train)[1],\n",
    "         \"output_dim\":1,\n",
    "         \"classes\":int(y_train.max().item()+1),\n",
    "         \"hidden1\": 100,\n",
    "         \"hidden2\": 100,\n",
    "         \"mu\": 0,\n",
    "         \"sigma_2\":1,\n",
    "         \"learning_rate\":0.001,\n",
    "         \"N\": np.shape(features_train)[0],\n",
    "         \"batch_size\" : 200,\n",
    "         \"epochs\": 100,\n",
    "         \"iters\": 20\n",
    "         \n",
    "    }\n",
    "lr = config[\"learning_rate\"]\n"
   ]
  },
  {
   "cell_type": "code",
   "execution_count": 32,
   "metadata": {},
   "outputs": [
    {
     "name": "stdout",
     "output_type": "stream",
     "text": [
      "time: 114 ms (started: 2021-01-05 02:40:31 -05:00)\n"
     ]
    }
   ],
   "source": [
    "NN = NN_SA(config)\n",
    "criterion = nn.CrossEntropyLoss()\n",
    "#criterion = nn.NLLLoss()\n",
    "#optimizer = optim.SGD(NN.parameters(), lr=lr, momentum=0.9)\n",
    "\n",
    "optimizer = optim.Adam(NN.parameters(), lr=lr, betas=(0.9, 0.99), eps=1e-08, weight_decay=0.0, amsgrad=False)"
   ]
  },
  {
   "cell_type": "code",
   "execution_count": 33,
   "metadata": {},
   "outputs": [
    {
     "name": "stdout",
     "output_type": "stream",
     "text": [
      "iter :  1 \t train loss :1.792 \t val loss :1.7918\n",
      "iter :  2 \t train loss :1.792 \t val loss :1.7918\n",
      "iter :  3 \t train loss :1.792 \t val loss :1.7918\n",
      "iter :  4 \t train loss :1.792 \t val loss :1.7918\n",
      "iter :  5 \t train loss :1.792 \t val loss :1.7918\n",
      "iter :  6 \t train loss :1.792 \t val loss :1.7918\n",
      "iter :  7 \t train loss :1.792 \t val loss :1.7918\n",
      "iter :  8 \t train loss :1.792 \t val loss :1.7918\n",
      "iter :  9 \t train loss :1.792 \t val loss :1.7918\n",
      "iter :  10 \t train loss :1.792 \t val loss :1.7918\n",
      "iter :  11 \t train loss :1.792 \t val loss :1.7918\n",
      "iter :  12 \t train loss :1.792 \t val loss :1.7918\n"
     ]
    },
    {
     "ename": "KeyboardInterrupt",
     "evalue": "",
     "output_type": "error",
     "traceback": [
      "\u001b[0;31m---------------------------------------------------------------------------\u001b[0m",
      "\u001b[0;31mKeyboardInterrupt\u001b[0m                         Traceback (most recent call last)",
      "\u001b[0;32m<ipython-input-33-b457760d1435>\u001b[0m in \u001b[0;36m<module>\u001b[0;34m\u001b[0m\n\u001b[1;32m     25\u001b[0m \u001b[0;34m\u001b[0m\u001b[0m\n\u001b[1;32m     26\u001b[0m         \u001b[0mloss\u001b[0m\u001b[0;34m.\u001b[0m\u001b[0mbackward\u001b[0m\u001b[0;34m(\u001b[0m\u001b[0;34m)\u001b[0m\u001b[0;34m\u001b[0m\u001b[0;34m\u001b[0m\u001b[0m\n\u001b[0;32m---> 27\u001b[0;31m         \u001b[0moptimizer\u001b[0m\u001b[0;34m.\u001b[0m\u001b[0mstep\u001b[0m\u001b[0;34m(\u001b[0m\u001b[0;34m)\u001b[0m\u001b[0;34m\u001b[0m\u001b[0;34m\u001b[0m\u001b[0m\n\u001b[0m\u001b[1;32m     28\u001b[0m         \u001b[0mrunning_loss\u001b[0m \u001b[0;34m+=\u001b[0m \u001b[0mloss\u001b[0m\u001b[0;34m.\u001b[0m\u001b[0mitem\u001b[0m\u001b[0;34m(\u001b[0m\u001b[0;34m)\u001b[0m\u001b[0;34m\u001b[0m\u001b[0;34m\u001b[0m\u001b[0m\n\u001b[1;32m     29\u001b[0m \u001b[0;34m\u001b[0m\u001b[0m\n",
      "\u001b[0;32m/Users/anaconda3/lib/python3.7/site-packages/torch/optim/adam.py\u001b[0m in \u001b[0;36mstep\u001b[0;34m(self, closure)\u001b[0m\n\u001b[1;32m     94\u001b[0m                 \u001b[0;31m# Decay the first and second moment running average coefficient\u001b[0m\u001b[0;34m\u001b[0m\u001b[0;34m\u001b[0m\u001b[0;34m\u001b[0m\u001b[0m\n\u001b[1;32m     95\u001b[0m                 \u001b[0mexp_avg\u001b[0m\u001b[0;34m.\u001b[0m\u001b[0mmul_\u001b[0m\u001b[0;34m(\u001b[0m\u001b[0mbeta1\u001b[0m\u001b[0;34m)\u001b[0m\u001b[0;34m.\u001b[0m\u001b[0madd_\u001b[0m\u001b[0;34m(\u001b[0m\u001b[0;36m1\u001b[0m \u001b[0;34m-\u001b[0m \u001b[0mbeta1\u001b[0m\u001b[0;34m,\u001b[0m \u001b[0mgrad\u001b[0m\u001b[0;34m)\u001b[0m\u001b[0;34m\u001b[0m\u001b[0;34m\u001b[0m\u001b[0m\n\u001b[0;32m---> 96\u001b[0;31m                 \u001b[0mexp_avg_sq\u001b[0m\u001b[0;34m.\u001b[0m\u001b[0mmul_\u001b[0m\u001b[0;34m(\u001b[0m\u001b[0mbeta2\u001b[0m\u001b[0;34m)\u001b[0m\u001b[0;34m.\u001b[0m\u001b[0maddcmul_\u001b[0m\u001b[0;34m(\u001b[0m\u001b[0;36m1\u001b[0m \u001b[0;34m-\u001b[0m \u001b[0mbeta2\u001b[0m\u001b[0;34m,\u001b[0m \u001b[0mgrad\u001b[0m\u001b[0;34m,\u001b[0m \u001b[0mgrad\u001b[0m\u001b[0;34m)\u001b[0m\u001b[0;34m\u001b[0m\u001b[0;34m\u001b[0m\u001b[0m\n\u001b[0m\u001b[1;32m     97\u001b[0m                 \u001b[0;32mif\u001b[0m \u001b[0mamsgrad\u001b[0m\u001b[0;34m:\u001b[0m\u001b[0;34m\u001b[0m\u001b[0;34m\u001b[0m\u001b[0m\n\u001b[1;32m     98\u001b[0m                     \u001b[0;31m# Maintains the maximum of all 2nd moment running avg. till now\u001b[0m\u001b[0;34m\u001b[0m\u001b[0;34m\u001b[0m\u001b[0;34m\u001b[0m\u001b[0m\n",
      "\u001b[0;31mKeyboardInterrupt\u001b[0m: "
     ]
    },
    {
     "name": "stdout",
     "output_type": "stream",
     "text": [
      "time: 1min 42s (started: 2021-01-05 02:40:32 -05:00)\n"
     ]
    }
   ],
   "source": [
    "epochs = config[\"epochs\"]\n",
    "batch_size = config[\"batch_size\"]\n",
    "iters = config[\"iters\"]\n",
    "loss_val = 50000.0\n",
    "val_dim = np.size(y_val)\n",
    "display_interval = 1\n",
    "i=0\n",
    "for i in range(epochs):\n",
    "    i+=1\n",
    "\n",
    "    running_loss =0.0\n",
    "    permutation = torch.randperm(Xtrain.size()[0])\n",
    "\n",
    "    for j in range(iters):\n",
    "        optimizer.zero_grad()\n",
    "        indices = permutation[i:i+batch_size]\n",
    "        batch_x, batch_y = Xtrain[indices], y_train[indices]\n",
    "\n",
    "        # in case you wanted a semi-full example\n",
    "        outputs = NN.forward(batch_x)\n",
    "        #outputs = outputs.resize(batch_size,)\n",
    "        #print(outputs[1:10])\n",
    "        #print(batch_y[1:10])\n",
    "        loss = criterion(outputs, batch_y)\n",
    "        \n",
    "        loss.backward()\n",
    "        optimizer.step()\n",
    "        running_loss += loss.item()\n",
    "        \n",
    "    \n",
    "    if i % display_interval == 0:    # print every display_interval=100 mini-batches\n",
    "        outval = NN.forward(Xval)\n",
    "        #outval = outval.resize(val,)\n",
    "        lossv = criterion(outval, y_val)\n",
    "        loss_val = lossv.item()\n",
    "        print('iter : ',int(i/display_interval),'\\t train loss :'+\"{:.3f}\".format(running_loss/iters),\n",
    "             '\\t val loss :'+\"{:.4f}\".format(loss_val))\n",
    "        running_loss = 0.0\n"
   ]
  },
  {
   "cell_type": "code",
   "execution_count": null,
   "metadata": {},
   "outputs": [],
   "source": [
    "classes = ['Negative', 'Neutral','Positive', 'Query', 'Very Negative', 'Very Positve']"
   ]
  },
  {
   "cell_type": "code",
   "execution_count": null,
   "metadata": {},
   "outputs": [],
   "source": []
  },
  {
   "cell_type": "code",
   "execution_count": null,
   "metadata": {},
   "outputs": [],
   "source": [
    "correct = 0\n",
    "total = 0\n",
    "with torch.no_grad():\n",
    "    outputs = NN(X_test)\n",
    "    _,predicted = torch.max(outputs, 1)\n",
    "\n",
    "    correct = (predicted == y_test).sum().item()\n",
    "total=y_test.size(0)\n",
    "print(total)\n",
    "print('Accuracy of the network: %d %%' % (\n",
    "    100 * correct / total))\n",
    "\n"
   ]
  },
  {
   "cell_type": "code",
   "execution_count": null,
   "metadata": {},
   "outputs": [],
   "source": [
    "for i in range(10):\n",
    "    index= np.random.randint(total-1)\n",
    "    print('Comment:',X_test[index],'\\n prediction: ',classes[predicted[index].item()],'\\t true label:',classes[y_test[index].item()])"
   ]
  },
  {
   "cell_type": "code",
   "execution_count": null,
   "metadata": {},
   "outputs": [],
   "source": [
    "outputs = NN(X_test)\n",
    "outputs = outputs.resize(test,)\n",
    "loss = criterion(outputs, y_test)\n",
    "print('Test loss : ', loss.item())\n"
   ]
  },
  {
   "cell_type": "code",
   "execution_count": null,
   "metadata": {},
   "outputs": [],
   "source": [
    "#torch.save(NN.state_dict(), 'MPC_model_weights')"
   ]
  },
  {
   "cell_type": "code",
   "execution_count": null,
   "metadata": {},
   "outputs": [],
   "source": [
    "#NN.load_state_dict(torch.load('MPC_model_weights'))"
   ]
  },
  {
   "cell_type": "markdown",
   "metadata": {},
   "source": [
    "# Logistic Regression"
   ]
  },
  {
   "cell_type": "code",
   "execution_count": null,
   "metadata": {},
   "outputs": [],
   "source": [
    "c=[0.5]\n",
    "for i in range(np.size(c)):\n",
    "    logreg = LogisticRegression(random_state=42,solver='newton-cg',\n",
    "                                penalty='l2',class_weight='balanced',\n",
    "                                multi_class='auto',C=c[i], max_iter=2000)\n",
    "    Lr = logreg.fit(features_train,y_train)\n",
    "    score =Lr.score(features_train,y_train)\n",
    "    print('c: ',c[i],'Train Accuracy : ',score*100,'%')\n",
    "    score =Lr.score(features_test,y_test)\n",
    "    print('c: ',c[i],'Test Accuracy : ',score*100,'%')"
   ]
  },
  {
   "cell_type": "code",
   "execution_count": null,
   "metadata": {},
   "outputs": [],
   "source": [
    "cv_results = cross_validate(logreg, features_train, y_train, cv=5,return_train_score=True)\n",
    "print(sorted(cv_results.keys()))\n",
    "print('test scores: \\t ',cv_results['test_score'])\n",
    "print('train scores: \\t ',cv_results['train_score'])\n",
    "print('score times: \\t ',cv_results['score_time'])\n",
    "print('fit time: \\t ',cv_results['fit_time'])"
   ]
  },
  {
   "cell_type": "markdown",
   "metadata": {},
   "source": [
    "# Plotting Results"
   ]
  },
  {
   "cell_type": "code",
   "execution_count": null,
   "metadata": {},
   "outputs": [],
   "source": [
    "preds = Lr.predict(features_test)\n",
    "labels = ['Very Positive','Positive', 'Neutral','Query', 'Negative', 'Very Negative']\n",
    "conf_mat=hf.plot_results(preds,labels,y_test)"
   ]
  },
  {
   "cell_type": "code",
   "execution_count": null,
   "metadata": {},
   "outputs": [],
   "source": [
    "new_conf_mat, acc=hf.category_reduction(conf_mat)"
   ]
  },
  {
   "cell_type": "code",
   "execution_count": null,
   "metadata": {},
   "outputs": [],
   "source": [
    "cv_results = cross_validate(svm, features_train, y_train, cv=5,return_train_score=True)\n",
    "print(sorted(cv_results.keys()))\n",
    "print('test scores: \\t ',cv_results['test_score'])\n",
    "print('train scores: \\t ',cv_results['train_score'])\n",
    "print('score times: \\t ',cv_results['score_time'])\n",
    "print('fit time: \\t ',cv_results['fit_time'])"
   ]
  },
  {
   "cell_type": "code",
   "execution_count": null,
   "metadata": {},
   "outputs": [],
   "source": [
    "svm.classes_"
   ]
  },
  {
   "cell_type": "markdown",
   "metadata": {},
   "source": [
    "# Stochastic Gradient Descent"
   ]
  },
  {
   "cell_type": "code",
   "execution_count": null,
   "metadata": {},
   "outputs": [],
   "source": [
    "from sklearn.linear_model import SGDClassifier\n",
    "\n",
    "clf = SGDClassifier(loss=\"log\", penalty=\"l2\", max_iter=2000,tol=2e-2)\n",
    "clf.fit(features_train,y_train)\n",
    "print(clf.score(features_train,y_train))\n",
    "print(clf.score(features_test,y_test))"
   ]
  },
  {
   "cell_type": "code",
   "execution_count": null,
   "metadata": {},
   "outputs": [],
   "source": [
    "cv_results = cross_validate(clf, features_train, y_train, cv=5,return_train_score=True)\n",
    "print(sorted(cv_results.keys()))\n",
    "print('test scores: \\t ',cv_results['test_score'])\n",
    "print('train scores: \\t ',cv_results['train_score'])\n",
    "print('score times: \\t ',cv_results['score_time'])\n",
    "print('fit time: \\t ',cv_results['fit_time'])"
   ]
  },
  {
   "cell_type": "markdown",
   "metadata": {},
   "source": [
    "# Nearest Centroid"
   ]
  },
  {
   "cell_type": "code",
   "execution_count": null,
   "metadata": {},
   "outputs": [],
   "source": [
    "from sklearn.neighbors import NearestCentroid\n",
    "\n",
    "clf = NearestCentroid()\n",
    "clf.fit(features_train,y_train)\n",
    "print(clf.score(features_train,y_train))\n",
    "print(clf.score(features_test,y_test))"
   ]
  },
  {
   "cell_type": "markdown",
   "metadata": {},
   "source": [
    "# KNearest Neighbours"
   ]
  },
  {
   "cell_type": "code",
   "execution_count": null,
   "metadata": {},
   "outputs": [],
   "source": [
    "from sklearn.neighbors import KNeighborsClassifier\n",
    "clf = KNeighborsClassifier(n_neighbors=3,weights='uniform')\n",
    "clf.fit(features_train,y_train)\n",
    "print(clf.score(features_train,y_train))\n",
    "print(clf.score(features_test,y_test))"
   ]
  },
  {
   "cell_type": "markdown",
   "metadata": {},
   "source": [
    "# Multinomial Naive Bayes"
   ]
  },
  {
   "cell_type": "code",
   "execution_count": null,
   "metadata": {},
   "outputs": [],
   "source": [
    "from sklearn.naive_bayes import MultinomialNB\n",
    "clf = MultinomialNB(alpha = 0.1)\n",
    "clf.fit(features_train,y_train)\n",
    "print(clf.score(features_train,y_train))\n",
    "print(clf.score(features_test,y_test))"
   ]
  },
  {
   "cell_type": "markdown",
   "metadata": {},
   "source": [
    "# Decision Tree Classifier\n",
    "\n",
    "Rather random results... could be pro or a con"
   ]
  },
  {
   "cell_type": "code",
   "execution_count": null,
   "metadata": {},
   "outputs": [],
   "source": [
    "from sklearn.tree import DecisionTreeClassifier\n",
    "clf = DecisionTreeClassifier(max_features=\"sqrt\",splitter=\"random\",class_weight=\"balanced\")\n",
    "clf.fit(features_train,y_train)\n",
    "print(clf.score(features_train,y_train))\n",
    "print(clf.score(features_test,y_test))\n"
   ]
  },
  {
   "cell_type": "markdown",
   "metadata": {},
   "source": [
    "# Multi Layer Perceptron (Classic NN)"
   ]
  },
  {
   "cell_type": "code",
   "execution_count": null,
   "metadata": {},
   "outputs": [],
   "source": [
    "t=[(7,7)]\n",
    "a= [3e-3]\n",
    "for i in range(int(np.size(a))):\n",
    "    from sklearn.neural_network import MLPClassifier\n",
    "    clf = MLPClassifier(solver='adam', alpha=3e-3,\n",
    "                        hidden_layer_sizes=t[i], random_state=1,\n",
    "                       learning_rate = 'constant', max_iter=500,\n",
    "                        momentum=0.9)\n",
    "    clf.fit(features_train,y_train)\n",
    "\n",
    "    score =clf.score(features_train,y_train)\n",
    "    print('hl_size: ',t[i],'Train Accuracy : ',score*100,'%')\n",
    "    score =clf.score(features_test,y_test)\n",
    "    print('hl_size: ',t[i],'Test Accuracy : ',score*100,'%')\n",
    "plt.plot(clf.loss_curve_)"
   ]
  },
  {
   "cell_type": "markdown",
   "metadata": {},
   "source": [
    "# Printing Predictions"
   ]
  },
  {
   "cell_type": "code",
   "execution_count": null,
   "metadata": {},
   "outputs": [],
   "source": [
    "for i in range(np.size(preds)):\n",
    "    if preds[i]!='Neutral':\n",
    "        print(X_test[i],'->', preds[i],'-',y_test[i])"
   ]
  },
  {
   "cell_type": "markdown",
   "metadata": {},
   "source": [
    "# Precision, Recall and F1.score"
   ]
  },
  {
   "cell_type": "code",
   "execution_count": null,
   "metadata": {},
   "outputs": [],
   "source": [
    "\n",
    "x=precision_recall_fscore_support(y_test, preds, \n",
    "                                  average='weighted', warn_for='recall')\n",
    "print('Precision :', x[0]*100, '%')\n",
    "print('Recall :', x[1]*100, '%')\n",
    "print('F1 Score :', x[2]*100, '%')\n",
    "\n"
   ]
  },
  {
   "cell_type": "markdown",
   "metadata": {},
   "source": [
    "# Assessing Annotation Stats"
   ]
  },
  {
   "cell_type": "code",
   "execution_count": 18,
   "metadata": {},
   "outputs": [
    {
     "data": {
      "image/png": "[encoded data removed]",
      "text/plain": [
       "<Figure size 576x432 with 2 Axes>"
      ]
     },
     "metadata": {
      "needs_background": "light"
     },
     "output_type": "display_data"
    },
    {
     "name": "stdout",
     "output_type": "stream",
     "text": [
      "Observed Agreement : 18235\n",
      "Random Chance Agreement : 6115.074581848095\n",
      "Kappa : 1.0\n",
      "time: 356 ms (started: 2021-01-06 01:53:45 -05:00)\n"
     ]
    }
   ],
   "source": []
  },
  {
   "cell_type": "code",
   "execution_count": null,
   "metadata": {},
   "outputs": [],
   "source": []
  }
 ],
 "metadata": {
  "kernelspec": {
   "display_name": "Python 3",
   "language": "python",
   "name": "python3"
  },
  "language_info": {
   "codemirror_mode": {
    "name": "ipython",
    "version": 3
   },
   "file_extension": ".py",
   "mimetype": "text/x-python",
   "name": "python",
   "nbconvert_exporter": "python",
   "pygments_lexer": "ipython3",
   "version": "3.7.1"
  }
 },
 "nbformat": 4,
 "nbformat_minor": 2
}
